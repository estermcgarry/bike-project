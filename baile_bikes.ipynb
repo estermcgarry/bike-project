{
 "cells": [
  {
   "cell_type": "code",
   "execution_count": 7,
   "metadata": {},
   "outputs": [],
   "source": [
    "#Import package pandas for data analysis\n",
    "import pandas as pd\n",
    "\n",
    "# Import package numpy for numeric computing\n",
    "import numpy as np\n",
    "\n",
    "# Import package matplotlib for visualisation/plotting\n",
    "import matplotlib.pyplot as plt"
   ]
  },
  {
   "cell_type": "code",
   "execution_count": 8,
   "metadata": {},
   "outputs": [],
   "source": [
    "df = pd.read_csv('db_backup/28.03/BikeData_DynamicData.csv')"
   ]
  },
  {
   "cell_type": "code",
   "execution_count": 9,
   "metadata": {},
   "outputs": [
    {
     "data": {
      "text/html": [
       "<div>\n",
       "<style scoped>\n",
       "    .dataframe tbody tr th:only-of-type {\n",
       "        vertical-align: middle;\n",
       "    }\n",
       "\n",
       "    .dataframe tbody tr th {\n",
       "        vertical-align: top;\n",
       "    }\n",
       "\n",
       "    .dataframe thead th {\n",
       "        text-align: right;\n",
       "    }\n",
       "</style>\n",
       "<table border=\"1\" class=\"dataframe\">\n",
       "  <thead>\n",
       "    <tr style=\"text-align: right;\">\n",
       "      <th></th>\n",
       "      <th>42</th>\n",
       "      <th>SMITHFIELD NORTH</th>\n",
       "      <th>2</th>\n",
       "      <th>28</th>\n",
       "      <th>2020-02-21</th>\n",
       "      <th>12:52:58</th>\n",
       "    </tr>\n",
       "  </thead>\n",
       "  <tbody>\n",
       "    <tr>\n",
       "      <td>0</td>\n",
       "      <td>30</td>\n",
       "      <td>PARNELL SQUARE NORTH</td>\n",
       "      <td>1</td>\n",
       "      <td>19</td>\n",
       "      <td>2020-02-21</td>\n",
       "      <td>12:54:29</td>\n",
       "    </tr>\n",
       "    <tr>\n",
       "      <td>1</td>\n",
       "      <td>54</td>\n",
       "      <td>CLONMEL STREET</td>\n",
       "      <td>25</td>\n",
       "      <td>8</td>\n",
       "      <td>2020-02-21</td>\n",
       "      <td>12:54:39</td>\n",
       "    </tr>\n",
       "    <tr>\n",
       "      <td>2</td>\n",
       "      <td>108</td>\n",
       "      <td>AVONDALE ROAD</td>\n",
       "      <td>4</td>\n",
       "      <td>36</td>\n",
       "      <td>2020-02-21</td>\n",
       "      <td>12:50:23</td>\n",
       "    </tr>\n",
       "    <tr>\n",
       "      <td>3</td>\n",
       "      <td>56</td>\n",
       "      <td>MOUNT STREET LOWER</td>\n",
       "      <td>27</td>\n",
       "      <td>13</td>\n",
       "      <td>2020-02-21</td>\n",
       "      <td>12:47:41</td>\n",
       "    </tr>\n",
       "    <tr>\n",
       "      <td>4</td>\n",
       "      <td>6</td>\n",
       "      <td>CHRISTCHURCH PLACE</td>\n",
       "      <td>2</td>\n",
       "      <td>18</td>\n",
       "      <td>2020-02-21</td>\n",
       "      <td>12:46:39</td>\n",
       "    </tr>\n",
       "  </tbody>\n",
       "</table>\n",
       "</div>"
      ],
      "text/plain": [
       "    42      SMITHFIELD NORTH   2  28  2020-02-21  12:52:58\n",
       "0   30  PARNELL SQUARE NORTH   1  19  2020-02-21  12:54:29\n",
       "1   54        CLONMEL STREET  25   8  2020-02-21  12:54:39\n",
       "2  108         AVONDALE ROAD   4  36  2020-02-21  12:50:23\n",
       "3   56    MOUNT STREET LOWER  27  13  2020-02-21  12:47:41\n",
       "4    6    CHRISTCHURCH PLACE   2  18  2020-02-21  12:46:39"
      ]
     },
     "execution_count": 9,
     "metadata": {},
     "output_type": "execute_result"
    }
   ],
   "source": [
    "df.head()"
   ]
  },
  {
   "cell_type": "code",
   "execution_count": null,
   "metadata": {},
   "outputs": [],
   "source": []
  }
 ],
 "metadata": {
  "kernelspec": {
   "display_name": "Python 3",
   "language": "python",
   "name": "python3"
  },
  "language_info": {
   "codemirror_mode": {
    "name": "ipython",
    "version": 3
   },
   "file_extension": ".py",
   "mimetype": "text/x-python",
   "name": "python",
   "nbconvert_exporter": "python",
   "pygments_lexer": "ipython3",
   "version": "3.7.4"
  }
 },
 "nbformat": 4,
 "nbformat_minor": 2
}
